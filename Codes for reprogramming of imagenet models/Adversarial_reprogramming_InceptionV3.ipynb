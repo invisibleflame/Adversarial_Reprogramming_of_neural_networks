{
  "nbformat": 4,
  "nbformat_minor": 0,
  "metadata": {
    "colab": {
      "name": "Adversarial reprogramming-InceptionV3",
      "provenance": []
    },
    "kernelspec": {
      "name": "python3",
      "display_name": "Python 3"
    },
    "language_info": {
      "name": "python"
    },
    "accelerator": "GPU"
  },
  "cells": [
    {
      "cell_type": "markdown",
      "metadata": {
        "id": "NQDf3a1n0KDv"
      },
      "source": [
        "# Adversarial starts below"
      ]
    },
    {
      "cell_type": "code",
      "metadata": {
        "id": "f0GXdhcGmBt3"
      },
      "source": [
        "import tensorflow as tf\n",
        "from tensorflow import keras\n",
        "from keras.layers import *\n",
        "import numpy as np \n",
        "import time \n",
        "import scipy\n",
        "from keras import Sequential\n",
        "from keras import Model\n",
        "from google.colab.patches import cv2_imshow\n",
        "\n",
        "num_classes = 1000\n",
        "input_shape = (28, 28, 3)\n",
        "\n",
        "(x_train, y_train), (x_test, y_test) = keras.datasets.mnist.load_data()\n",
        "\n",
        "x_train = x_train.astype(\"float32\") / 255\n",
        "x_test = x_test.astype(\"float32\") / 255\n",
        "# x_train = np.expand_dims(x_train, -1)\n",
        "# x_test = np.expand_dims(x_test, -1)\n",
        "X_train = np.stack([x_train, x_train, x_train], axis=-1)\n",
        "X_test = np.stack([x_test, x_test, x_test], axis=-1)\n",
        "Y_train = keras.utils.to_categorical(y_train,1000)\n",
        "Y_test = keras.utils.to_categorical(y_test,1000)"
      ],
      "execution_count": null,
      "outputs": []
    },
    {
      "cell_type": "code",
      "metadata": {
        "colab": {
          "base_uri": "https://localhost:8080/"
        },
        "id": "I1uCw3aVmZ2Q",
        "outputId": "b508bca3-cd76-475a-951a-350c1116794a"
      },
      "source": [
        "input_mask = np.pad(np.zeros([1, 28, 28, 3]),\n",
        "                            [[0,0], [136, 135], [136, 135], [0,0]],\n",
        "                            'constant', constant_values = 1)\n",
        "input_mask.shape"
      ],
      "execution_count": null,
      "outputs": [
        {
          "output_type": "execute_result",
          "data": {
            "text/plain": [
              "(1, 299, 299, 3)"
            ]
          },
          "metadata": {},
          "execution_count": 8
        }
      ]
    },
    {
      "cell_type": "code",
      "metadata": {
        "colab": {
          "base_uri": "https://localhost:8080/",
          "height": 316
        },
        "id": "ktRGMJOsmbhg",
        "outputId": "59ea0255-b272-4ca9-ff48-4c731f62b2ce"
      },
      "source": [
        "cv2_imshow(input_mask[0])"
      ],
      "execution_count": null,
      "outputs": [
        {
          "output_type": "display_data",
          "data": {
            "image/png": "[encoded data removed]",
            "text/plain": [
              "<PIL.Image.Image image mode=RGB size=299x299 at 0x7EFEBF16CD50>"
            ]
          },
          "metadata": {}
        }
      ]
    },
    {
      "cell_type": "code",
      "metadata": {
        "id": "iF4UzCZqm6sp"
      },
      "source": [
        "import keras.backend as K\n",
        "config = tf.compat.v1.ConfigProto( device_count = {'GPU': 1 , 'CPU': 2} ) \n",
        "sess = tf.compat.v1.Session(config=config) \n",
        "K.set_session(sess)\n",
        "from keras import initializers,regularizers\n",
        "from keras.optimizers import *\n",
        "from keras.callbacks import *\n",
        "\n",
        "M = np.ones((299,299,3)).astype('float32')\n",
        "M[135:163,135:163,:] = 0\n",
        "\n",
        "class AdvLayer(Layer):\n",
        "    def __init__(self, W_regularizer=0.05, **kwargs):\n",
        "        self.init = initializers.get('glorot_uniform')\n",
        "        self.W_regularizer = regularizers.l2(W_regularizer)\n",
        "        super(AdvLayer, self).__init__(**kwargs)\n",
        "    def build(self, input_shape):\n",
        "        assert len(input_shape) == 4\n",
        "        self.W = self.add_weight(name='kernel', \n",
        "                                      shape=(299,299,3),\n",
        "                                      initializer=self.init, regularizer=self.W_regularizer,\n",
        "                                      trainable=True)\n",
        "        super(AdvLayer, self).build(input_shape)\n",
        "    def call(self, x):\n",
        "        prog = K.tanh(self.W*M)\n",
        "        out = x + prog\n",
        "        return out\n",
        "    def compute_output_shape(self, input_shape):\n",
        "        return (input_shape[0],input_shape[1],input_shape[2],input_shape[3])"
      ],
      "execution_count": null,
      "outputs": []
    },
    {
      "cell_type": "code",
      "metadata": {
        "id": "N8StrpeDn4YO"
      },
      "source": [
        "basemodel = tf.keras.applications.InceptionV3(weights=\"imagenet\")\n",
        "x = Input(shape=input_shape)\n",
        "x_aug = ZeroPadding2D(padding=((135,136),(135,136)))(x)\n",
        "out = AdvLayer()(x_aug)\n",
        "probs = basemodel(out)\n",
        "model = Model(inputs=x,outputs=probs)\n",
        "model.layers[-1].trainable = False\n",
        "model.summary()"
      ],
      "execution_count": null,
      "outputs": []
    },
    {
      "cell_type": "code",
      "metadata": {
        "id": "-sm0LH6vpj14"
      },
      "source": [
        "model.compile(optimizer='adam',loss='categorical_crossentropy',metrics=['accuracy'])\n",
        "checkpoint = tf.keras.callbacks.ModelCheckpoint(\"advweightsinception.h5\",save_freq='epoch', save_best_only = True, monitor='loss',\n",
        "                            save_weights_only=True, mode='min', verbose=0)\n",
        "reduce_lr = keras.callbacks.ReduceLROnPlateau(monitor='loss', factor=0.3, patience=2, min_lr=0.000001, mode='auto')\n",
        "stopping = tf.keras.callbacks.EarlyStopping(monitor='loss', patience=3, mode= 'min')\n",
        "history = model.fit(X_train,Y_train,epochs = 100,batch_size=32, validation_data = (X_test,Y_test), verbose=1, callbacks=[checkpoint,reduce_lr,stopping])"
      ],
      "execution_count": null,
      "outputs": []
    }
  ]
}